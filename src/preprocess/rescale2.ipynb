{
 "cells": [
  {
   "cell_type": "markdown",
   "id": "813ac1d5",
   "metadata": {},
   "source": [
    "### Testing\n",
    "https://www.kaggle.com/code/dmitryyemelyanov/receipt-ocr-part-1-image-segmentation-by-opencv\n",
    "\n",
    "Receipt OCR Part 1: Image segmentation by OpenCV"
   ]
  },
  {
   "cell_type": "code",
   "execution_count": 40,
   "id": "517d9687",
   "metadata": {},
   "outputs": [],
   "source": [
    "import numpy as np\n",
    "import cv2\n",
    "import matplotlib.pyplot as plt\n",
    "\n",
    "# from skimage.filters import threshold_local\n",
    "from PIL import Image"
   ]
  },
  {
   "cell_type": "code",
   "execution_count": 41,
   "id": "0c4769e6",
   "metadata": {},
   "outputs": [],
   "source": [
    "def rescale(image_file):\n",
    "\n",
    "    # get the height and weight of the image\n",
    "    height, width = image_file.shape[:2]\n",
    "    print(height) #testing\n",
    "    print(width) # testing\n",
    "\n",
    "    # calculate the aspect ratio\n",
    "    aspect_ratio = width / height\n",
    "    print(aspect_ratio) #testing\n",
    "\n",
    "    # set new width and new height\n",
    "    new_width = 600 \n",
    "    new_height = round(aspect_ratio * new_width)\n",
    "    \n",
    "    # resize the image with new height\n",
    "    resized_image = cv2.resize(image_file, (new_width, new_height))\n",
    "\n",
    "    #return\n",
    "    return resized_image\n",
    "\n",
    "\n",
    "def grayscale(file_path:str):\n",
    "\n",
    "    # Converting image to grayscale\n",
    "    img_gray_mode = cv2.imread(file_path, cv2.IMREAD_GRAYSCALE)\n",
    "\n",
    "    # Returning the new grayscale image\n",
    "    return img_gray_mode"
   ]
  },
  {
   "cell_type": "code",
   "execution_count": 42,
   "id": "1fea414a",
   "metadata": {},
   "outputs": [
    {
     "name": "stdout",
     "output_type": "stream",
     "text": [
      "1000\n",
      "750\n",
      "0.75\n"
     ]
    }
   ],
   "source": [
    "file_name = 'C:\\workspace\\SFUschool\\cmpt310\\cmpt310-rcpt-scan\\data\\dirty\\large-receipt-image-dataset-SRD\\\\1000-receipt.jpg'\n",
    "\n",
    "gray_image = grayscale(file_name)\n",
    "scaled_image = rescale(gray_image)"
   ]
  },
  {
   "cell_type": "code",
   "execution_count": 43,
   "id": "e4884857",
   "metadata": {},
   "outputs": [],
   "source": [
    "def plot_gray(image):\n",
    "    plt.figure(figsize=(16,10))\n",
    "    return plt.imshow(image, cmap='Greys_r')\n",
    "\n",
    "blurred = cv2.GaussianBlur(scaled_image, (5, 5), 0)\n",
    "# plot_gray(blurred)\n",
    "\n"
   ]
  },
  {
   "cell_type": "code",
   "execution_count": 44,
   "id": "1fedeea8",
   "metadata": {},
   "outputs": [],
   "source": [
    "# Detect white regions\n",
    "\n",
    "rectKernel = cv2.getStructuringElement(cv2.MORPH_RECT, (9, 9))\n",
    "dilated = cv2.dilate(blurred, rectKernel)\n",
    "# plot_gray(dilated)\n",
    "\n",
    "# Detect all contours in Canny-edged image\n",
    "edged = cv2.Canny(dilated, 100, 200, apertureSize=3)\n",
    "contours, hierarchy = cv2.findContours(edged, cv2.RETR_TREE, cv2.CHAIN_APPROX_SIMPLE)\n",
    "image_with_contours = cv2.drawContours(scaled_image.copy(), contours, -1, (0,255,0), 3)\n",
    "\n",
    "# Get 10 largest contours\n",
    "largest_contours = sorted(contours, key = cv2.contourArea, reverse = True)[:10]\n",
    "image_with_largest_contours = cv2.drawContours(scaled_image.copy(), largest_contours, -1, (0,255,0), 3)"
   ]
  },
  {
   "cell_type": "code",
   "execution_count": 45,
   "id": "f89b8001",
   "metadata": {},
   "outputs": [],
   "source": [
    "# approximate the contour by a more primitive polygon shape\n",
    "def approximate_contour(contour):\n",
    "    peri = cv2.arcLength(contour, True)\n",
    "    return cv2.approxPolyDP(contour, 0.032 * peri, True)\n",
    "\n",
    "def get_receipt_contour(contours):    \n",
    "    # loop over the contours\n",
    "    for c in contours:\n",
    "        approx = approximate_contour(c)\n",
    "        # if our approximated contour has four points, we can assume it is receipt's rectangle\n",
    "        if len(approx) == 4:\n",
    "            return approx\n",
    "        \n",
    "\n",
    "get_receipt_contour(largest_contours)\n",
    "\n",
    "\n",
    "receipt_contour = get_receipt_contour(largest_contours)\n",
    "image_with_receipt_contour = cv2.drawContours(scaled_image.copy(), [receipt_contour], -1, (0, 255, 0), 2)\n",
    "# plot_rgb(image_with_receipt_contour)"
   ]
  },
  {
   "cell_type": "code",
   "execution_count": 46,
   "id": "3a6ef8ca",
   "metadata": {},
   "outputs": [],
   "source": [
    "def contour_to_rect(contour):\n",
    "    pts = contour.reshape(4, 2)\n",
    "    rect = np.zeros((4, 2), dtype = \"float32\")\n",
    "    # top-left point has the smallest sum\n",
    "    # bottom-right has the largest sum\n",
    "    s = pts.sum(axis = 1)\n",
    "    rect[0] = pts[np.argmin(s)]\n",
    "    rect[2] = pts[np.argmax(s)]\n",
    "    # compute the difference between the points:\n",
    "    # the top-right will have the minumum difference \n",
    "    # the bottom-left will have the maximum difference\n",
    "    diff = np.diff(pts, axis = 1)\n",
    "    rect[1] = pts[np.argmin(diff)]\n",
    "    rect[3] = pts[np.argmax(diff)]\n",
    "    return rect / (500 / scaled_image.shape[0])\n",
    "\n",
    "def wrap_perspective(img, rect):\n",
    "    # unpack rectangle points: top left, top right, bottom right, bottom left\n",
    "    (tl, tr, br, bl) = rect\n",
    "    # compute the width of the new image\n",
    "    widthA = np.sqrt(((br[0] - bl[0]) ** 2) + ((br[1] - bl[1]) ** 2))\n",
    "    widthB = np.sqrt(((tr[0] - tl[0]) ** 2) + ((tr[1] - tl[1]) ** 2))\n",
    "    # compute the height of the new image\n",
    "    heightA = np.sqrt(((tr[0] - br[0]) ** 2) + ((tr[1] - br[1]) ** 2))\n",
    "    heightB = np.sqrt(((tl[0] - bl[0]) ** 2) + ((tl[1] - bl[1]) ** 2))\n",
    "    # take the maximum of the width and height values to reach\n",
    "    # our final dimensions\n",
    "    maxWidth = max(int(widthA), int(widthB))\n",
    "    maxHeight = max(int(heightA), int(heightB))\n",
    "    # destination points which will be used to map the screen to a \"scanned\" view\n",
    "    dst = np.array([\n",
    "        [0, 0],\n",
    "        [maxWidth - 1, 0],\n",
    "        [maxWidth - 1, maxHeight - 1],\n",
    "        [0, maxHeight - 1]], dtype = \"float32\")\n",
    "    # calculate the perspective transform matrix\n",
    "    M = cv2.getPerspectiveTransform(rect, dst)\n",
    "    # warp the perspective to grab the screen\n",
    "    return cv2.warpPerspective(img, M, (maxWidth, maxHeight))"
   ]
  },
  {
   "cell_type": "code",
   "execution_count": 47,
   "id": "af34720c",
   "metadata": {},
   "outputs": [
    {
     "data": {
      "text/plain": [
       "<matplotlib.image.AxesImage at 0x2685db4c730>"
      ]
     },
     "execution_count": 47,
     "metadata": {},
     "output_type": "execute_result"
    },
    {
     "data": {
      "image/png": "[encoded data removed]",
      "text/plain": [
       "<Figure size 1600x1000 with 1 Axes>"
      ]
     },
     "metadata": {},
     "output_type": "display_data"
    }
   ],
   "source": [
    "original = cv2.imread(file_name)\n",
    "scanned = wrap_perspective(original.copy(), contour_to_rect(receipt_contour))\n",
    "plt.figure(figsize=(16,10))\n",
    "plt.imshow(scanned)"
   ]
  }
 ],
 "metadata": {
  "kernelspec": {
   "display_name": "Python 3",
   "language": "python",
   "name": "python3"
  },
  "language_info": {
   "codemirror_mode": {
    "name": "ipython",
    "version": 3
   },
   "file_extension": ".py",
   "mimetype": "text/x-python",
   "name": "python",
   "nbconvert_exporter": "python",
   "pygments_lexer": "ipython3",
   "version": "3.10.0"
  }
 },
 "nbformat": 4,
 "nbformat_minor": 5
}
